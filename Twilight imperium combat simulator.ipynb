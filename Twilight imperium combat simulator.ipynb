{
 "cells": [
  {
   "cell_type": "code",
   "execution_count": 1,
   "metadata": {
    "collapsed": true
   },
   "outputs": [],
   "source": [
    "import random"
   ]
  },
  {
   "cell_type": "code",
   "execution_count": 2,
   "metadata": {
    "collapsed": false
   },
   "outputs": [],
   "source": [
    "def SpaceCom(Dreadnought = 0, DredMod = 0, Cruiser = 0,CruMod = 0, Destroyer = 0, DestMod = 0, WarSun = 0, WarMod = 0, Carrier = 0, CarMod = 0, Fighter = 0, FightMod = 0,PDS = 0, PMod = 0):\n",
    "    hits = 0\n",
    "    for n in range(int(Dreadnought)):\n",
    "        roll = random.randint(1,10) + int(DredMod)\n",
    "        if roll >= 5:\n",
    "            hits += 1\n",
    "    for n in range(int(Cruiser)):\n",
    "        roll = random.randint(1,10) + int(CruMod)\n",
    "        if roll >= 7:\n",
    "            hits += 1\n",
    "    for n in range(int(Destroyer)):\n",
    "        roll = random.randint(1,10) + int(DestMod)\n",
    "        if roll >= 9:\n",
    "            hits += 1\n",
    "    for n in range(int(WarSun) * 3):\n",
    "        roll = random.randint(1,10) + int(WarMod)\n",
    "        if roll >= 3:\n",
    "            hits += 1\n",
    "    for n in range(int(Carrier)):\n",
    "        roll = random.randint(1,10) + int(CarMod)\n",
    "        if roll >= 9:\n",
    "            hits += 1\n",
    "    for n in range(int(Fighter)):\n",
    "        roll = random.randint(1,10) + int(FightMod)\n",
    "        if roll >= 9:\n",
    "            hits += 1\n",
    "    for n in range(int(PDS)):\n",
    "        roll = random.randint(1,10) + int(PMod)\n",
    "        if roll >= 6:\n",
    "            hits += 1\n",
    "    return hits\n",
    "def GroundCom(GroundForces = 0, GroundMod = 0, MechUnit = 0, MechMod = 0):\n",
    "    hits = 0\n",
    "    for n in range(int(GroundForces)):\n",
    "        roll = random.randint(1,10) + int(GroundMod)\n",
    "        if roll >= 8:\n",
    "            hits += 1\n",
    "    for n in range(int(MechUnit) * 2):\n",
    "        roll = random.randint(1,10) + int(MechMod)\n",
    "        if roll >= 6:\n",
    "            hits += 1\n",
    "    return hits"
   ]
  },
  {
   "cell_type": "code",
   "execution_count": 4,
   "metadata": {
    "collapsed": false
   },
   "outputs": [
    {
     "name": "stdout",
     "output_type": "stream",
     "text": [
      "Dreadnoughts: 3\n",
      "modifiers: 2\n",
      "Cruisers: 5\n",
      "modifiers: 2\n",
      "Destroyers: 3\n",
      "modifiers: 1\n",
      "War Suns: 1\n",
      "modifiers: 0\n",
      "Carriers: 0\n",
      "modifiers: 0\n",
      "Fighters: 15\n",
      "modifiers: 1\n",
      "PDS: 0\n",
      "modifiers: 0\n",
      "you got 14 hits\n"
     ]
    }
   ],
   "source": [
    "Dreadnought = raw_input('Dreadnoughts: ')\n",
    "DredMod = raw_input('modifiers: ')\n",
    "Cruiser = raw_input('Cruisers: ')\n",
    "CruMod = raw_input('modifiers: ')\n",
    "Destroyer = raw_input('Destroyers: ')\n",
    "DestMod = raw_input('modifiers: ')\n",
    "WarSun = raw_input('War Suns: ')\n",
    "WarMod = raw_input('modifiers: ')\n",
    "Carrier = raw_input('Carriers: ')\n",
    "CarMod = raw_input('modifiers: ')\n",
    "Fighter = raw_input('Fighters: ')\n",
    "FightMod = raw_input('modifiers: ')\n",
    "PDS = raw_input('PDS: ')\n",
    "PMod = raw_input('modifiers: ')\n",
    "print 'you got',SpaceCom(Dreadnought = Dreadnought, DredMod = DredMod, Cruiser = Cruiser,CruMod = CruMod, Destroyer = Destroyer, DestMod = DestMod, WarSun = WarSun, WarMod = WarMod, Carrier = Carrier, CarMod = CarMod, Fighter = Fighter, FightMod = FightMod,PDS = PDS, PMod = PMod),'hits'"
   ]
  },
  {
   "cell_type": "code",
   "execution_count": 10,
   "metadata": {
    "collapsed": false
   },
   "outputs": [
    {
     "name": "stdout",
     "output_type": "stream",
     "text": [
      "GroundForces: 20\n",
      "GroundMod: 20\n",
      "MechUnit: 20\n",
      "MechMod: 20\n",
      "you got 60 hits\n"
     ]
    }
   ],
   "source": [
    "GroundForces = raw_input('GroundForces: ')\n",
    "GroundMod = raw_input('GroundMod: ')\n",
    "MechUnit = raw_input('MechUnit: ')\n",
    "MechMod = raw_input('MechMod: ')\n",
    "print 'you got', GroundCom(GroundForces = GroundForces, GroundMod = GroundMod, MechUnit = MechUnit, MechMod = MechMod), 'hits'"
   ]
  },
  {
   "cell_type": "code",
   "execution_count": null,
   "metadata": {
    "collapsed": true
   },
   "outputs": [],
   "source": []
  }
 ],
 "metadata": {
  "kernelspec": {
   "display_name": "Python 2",
   "language": "python",
   "name": "python2"
  },
  "language_info": {
   "codemirror_mode": {
    "name": "ipython",
    "version": 2
   },
   "file_extension": ".py",
   "mimetype": "text/x-python",
   "name": "python",
   "nbconvert_exporter": "python",
   "pygments_lexer": "ipython2",
   "version": "2.7.10"
  }
 },
 "nbformat": 4,
 "nbformat_minor": 0
}
